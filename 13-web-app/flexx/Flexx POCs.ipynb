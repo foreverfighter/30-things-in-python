{
 "cells": [
  {
   "cell_type": "code",
   "execution_count": 5,
   "metadata": {},
   "outputs": [
    {
     "name": "stderr",
     "output_type": "stream",
     "text": [
      "[W 14:03:31 flexx.app] Re-defining app class 'Example'\n"
     ]
    },
    {
     "data": {
      "text/html": [
       "<i>Flexx already loaded (the notebook cannot export now)</i>"
      ],
      "text/plain": [
       "<IPython.core.display.HTML object>"
      ]
     },
     "metadata": {},
     "output_type": "display_data"
    }
   ],
   "source": [
    "%gui asyncio\n",
    "\n",
    "from flexx import flx\n",
    "\n",
    "class Example(flx.Widget):\n",
    "    \n",
    "    def init(self):\n",
    "        with flx.HBox():\n",
    "            flx.Button(text='hello', flex=1) # flex is the ratio of width used\n",
    "            flx.Button(text='world', flex=5)    "
   ]
  },
  {
   "cell_type": "code",
   "execution_count": 2,
   "metadata": {},
   "outputs": [
    {
     "name": "stdout",
     "output_type": "stream",
     "text": [
      "[I 14:06:56 flexx.app] Asset store collected 2 new modules.\n"
     ]
    }
   ],
   "source": [
    "from flexx import flx\n",
    "\n",
    "class Example(flx.Widget):\n",
    "\n",
    "    def init(self):\n",
    "        with flx.HSplit():\n",
    "            flx.Button(text='foo')\n",
    "            with flx.VBox():\n",
    "                flx.Widget(style='background:red;', flex=1)\n",
    "                flx.Widget(style='background:blue;', flex=1)"
   ]
  },
  {
   "cell_type": "code",
   "execution_count": 5,
   "metadata": {},
   "outputs": [],
   "source": [
    "from flexx import flx\n",
    "\n",
    "class Example(flx.Widget):\n",
    "\n",
    "    counter = flx.IntProp(3, settable=True)\n",
    "\n",
    "    def init(self):\n",
    "        super().init()\n",
    "\n",
    "        with flx.HBox():\n",
    "            self.but1 = flx.Button(text='reset')\n",
    "            self.but2 = flx.Button(text='increase')\n",
    "            self.label = flx.Label(text='', flex=1)  # take all remaining space\n",
    "\n",
    "    @flx.action\n",
    "    def increase(self):\n",
    "        self._mutate_counter(self.counter + 1)\n",
    "\n",
    "    @flx.reaction('but1.pointer_click')\n",
    "    def but1_clicked(self, *events):\n",
    "        self.set_counter(0)\n",
    "\n",
    "    @flx.reaction('but2.pointer_click')\n",
    "    def but2_clicked(self, *events):\n",
    "        self.increase(0)\n",
    "\n",
    "    @flx.reaction\n",
    "    def update_label(self, *events):\n",
    "        self.label.set_text('count is ' + str(self.counter))"
   ]
  },
  {
   "cell_type": "code",
   "execution_count": 8,
   "metadata": {},
   "outputs": [],
   "source": [
    "from flexx import flx\n",
    "\n",
    "class Example(flx.Widget):\n",
    "\n",
    "    def init(self):\n",
    "        super().init()\n",
    "        with flx.VBox():\n",
    "            with flx.HBox():\n",
    "                self.but = flx.Button(text='add')\n",
    "                self.label = flx.Label(flex=1)\n",
    "            with flx.HBox() as self.box:\n",
    "                flx.Button(text='x')\n",
    "\n",
    "    @flx.reaction('but.pointer_click')\n",
    "    def add_widget(self, *events):\n",
    "        flx.Button(parent=self.box, text='x')\n",
    "\n",
    "    @flx.reaction('box.children*.pointer_click')\n",
    "    def a_button_was_pressed(self, *events):\n",
    "        ev = events[-1]  # only care about last event\n",
    "        self.label.set_text(ev.source.id + ' was pressed')"
   ]
  },
  {
   "cell_type": "code",
   "execution_count": 26,
   "metadata": {},
   "outputs": [],
   "source": [
    "from flexx import flx\n",
    "\n",
    "class StaticDisplay(flx.Widget):\n",
    "    def init(self):\n",
    "        flx.Label(text='Hello world',flex=1)\n",
    "        flx.Label(text='Second line',flex=2)"
   ]
  },
  {
   "cell_type": "code",
   "execution_count": 38,
   "metadata": {},
   "outputs": [],
   "source": [
    "from flexx import flx\n",
    "\n",
    "# Display from variable\n",
    "class Root(flx.Widget):\n",
    "    name = flx.StringProp('HELLOW')\n",
    "    \n",
    "    def init(self):\n",
    "        flx.Label(text=self.name,flex=1)"
   ]
  },
  {
   "cell_type": "code",
   "execution_count": 56,
   "metadata": {},
   "outputs": [],
   "source": [
    "from flexx import flx\n",
    "\n",
    "# Change the variable display with textfield\n",
    "class Root(flx.Widget):\n",
    "    name = flx.StringProp('HELLOW', settable=True)\n",
    "    \n",
    "    def init(self):\n",
    "        with flx.HBox():\n",
    "            self.name_input = flx.LineEdit(flex=1)\n",
    "            self.name_label = flx.Label(text=lambda:self.name,flex=1)\n",
    "\n",
    "    @flx.reaction('name_input.user_done')\n",
    "    def update_name(self, *events):\n",
    "        self.set_name(self.name_input.text)"
   ]
  },
  {
   "cell_type": "code",
   "execution_count": 72,
   "metadata": {},
   "outputs": [],
   "source": [
    "from flexx import flx\n",
    "\n",
    "# Application of variable input using a template\n",
    "class Root(flx.Widget):\n",
    "    name = flx.StringProp(settable=True)\n",
    "    gender = flx.StringProp(settable=True)\n",
    "    tone = flx.StringProp(settable=True)\n",
    "    \n",
    "    def init(self):\n",
    "        with flx.VBox():\n",
    "            with flx.HBox():\n",
    "                flx.Label(text='Name: ')\n",
    "                self.name_input = flx.LineEdit(flex=1)\n",
    "                flx.Label(text='Gender: ')\n",
    "                self.gender_input = flx.LineEdit(flex=1)\n",
    "                flx.Label(text='Tone: ')\n",
    "                self.tone_input = flx.LineEdit(flex=1)\n",
    "            self.email = flx.Label(text=self.write_email,flex=1)    \n",
    "                \n",
    "    @flx.reaction('name_input.user_done')\n",
    "    def update_name(self, *events):\n",
    "        self.set_name(self.name_input.text)\n",
    "\n",
    "    @flx.reaction('gender_input.user_done')\n",
    "    def update_gender(self, *events):\n",
    "        self.set_gender(self.gender_input.text)\n",
    "\n",
    "    @flx.reaction('tone_input.user_done')\n",
    "    def update_tone(self, *events):\n",
    "        self.set_tone(self.tone_input.text)\n",
    "        \n",
    "    def write_email(self):\n",
    "        return 'Dear {},\\nI\\'m pretty sure you\\'re a {}. I am now using my {} tone. Be pleased'.format(self.name, self.gender, self.tone)"
   ]
  },
  {
   "cell_type": "code",
   "execution_count": 87,
   "metadata": {},
   "outputs": [],
   "source": [
    "from flexx import flx\n",
    "\n",
    "# Application of variable input using a template and component abstraction\n",
    "class TextInput(flx.Widget):\n",
    "    text = flx.StringProp(settable=True)\n",
    "    name = flx.StringProp('Pass in something here')\n",
    "    \n",
    "    def init(self):\n",
    "        flx.Label(text=lambda:'{}: '.format(self.name))\n",
    "        self.text_input = flx.LineEdit(flex=1)\n",
    "\n",
    "    @flx.reaction('text_input.user_done')\n",
    "    def update_text(self, *events):\n",
    "        self.set_text(self.text_input.text)\n",
    "        \n",
    "\n",
    "class Root(flx.Widget):\n",
    "    def init(self):\n",
    "        with flx.VBox():\n",
    "            with flx.HBox():\n",
    "                self.name_input = TextInput(name='Name')\n",
    "                self.gender_input = TextInput(name='Gender')\n",
    "                self.tone_input = TextInput(name='Tone')\n",
    "            self.email = flx.Label(text=self.write_email,flex=1, wrap=True)    \n",
    "                        \n",
    "    def write_email(self):\n",
    "        return 'Dear {},\\nI\\'m pretty sure you\\'re a {}. I am now using my {} tone. Be pleased'.format(self.name_input.text, self.gender_input.text, self.tone_input.text)"
   ]
  },
  {
   "cell_type": "code",
   "execution_count": 104,
   "metadata": {},
   "outputs": [],
   "source": [
    "from flexx import flx\n",
    "\n",
    "# Application of variable input using a template and component abstraction and set_HTML\n",
    "class TextInput(flx.Widget):\n",
    "    text = flx.StringProp(settable=True)\n",
    "    name = flx.StringProp('Pass in something here')\n",
    "    \n",
    "    def init(self):\n",
    "        flx.Label(text=lambda:'{}: '.format(self.name))\n",
    "        self.text_input = flx.LineEdit(flex=1)\n",
    "\n",
    "    @flx.reaction('text_input.user_done')\n",
    "    def update_text(self, *events):\n",
    "        self.set_text(self.text_input.text)\n",
    "        \n",
    "class Root(flx.Widget):\n",
    "    def init(self):\n",
    "        with flx.VBox(padding=20):\n",
    "            with flx.HBox(flex=1):\n",
    "                self.name_input = TextInput(name='Name')\n",
    "                self.gender_input = TextInput(name='Gender')\n",
    "                self.tone_input = TextInput(name='Tone')\n",
    "            with flx.HBox(flex=5):\n",
    "                self.email = flx.Label(html=self.write_email,flex=10, wrap=True)    \n",
    "                \n",
    "    def write_email(self):\n",
    "        return 'Dear {},<br><br>I\\'m pretty sure you\\'re a {}. I am now using my {} tone. Be pleased.'.format(self.name_input.text, self.gender_input.text, self.tone_input.text)"
   ]
  },
  {
   "cell_type": "code",
   "execution_count": 129,
   "metadata": {},
   "outputs": [],
   "source": [
    "from flexx import flx\n",
    "\n",
    "# Add two numbers together when you press a button, but not before\n",
    "class Root(flx.Widget):\n",
    "    text = flx.StringProp(settable=True)\n",
    "    number = flx.IntProp(settable=True)\n",
    "    \n",
    "    def init(self):\n",
    "        with flx.VSplit(padding=20):\n",
    "            with flx.VBox(flex=1):                \n",
    "                with flx.HBox(flex=1):\n",
    "                    self.first = flx.LineEdit(title='1st number: ')\n",
    "                    self.second = flx.LineEdit(title='2nd number: ')\n",
    "                self.button = flx.Button(text='Calculate')\n",
    "            with flx.HBox(flex=5):\n",
    "                flx.Label(html=lambda:'<h1>{}</h1>'.format(self.number))    \n",
    "                \n",
    "    @flx.reaction('button.pointer_click')\n",
    "    def update_number(self, *events):\n",
    "        self.set_number(int(self.first.text) + int(self.second.text))"
   ]
  },
  {
   "cell_type": "code",
   "execution_count": 130,
   "metadata": {},
   "outputs": [
    {
     "name": "stderr",
     "output_type": "stream",
     "text": [
      "[W 18:55:39 flexx.app] Re-defining app class 'Root'\n"
     ]
    },
    {
     "data": {
      "text/html": [
       "<i>Flexx already loaded (the notebook cannot export now)</i>"
      ],
      "text/plain": [
       "<IPython.core.display.HTML object>"
      ]
     },
     "metadata": {},
     "output_type": "display_data"
    },
    {
     "name": "stderr",
     "output_type": "stream",
     "text": [
      "[W 04:32:50 flexx.app] Closing connection due to lack of pong\n"
     ]
    }
   ],
   "source": [
    "app = flx.App(Root)\n",
    "app.launch('app')\n",
    "flx.init_notebook()"
   ]
  },
  {
   "cell_type": "code",
   "execution_count": 99,
   "metadata": {},
   "outputs": [],
   "source": [
    "app.export('example2.html',link=0)"
   ]
  },
  {
   "cell_type": "code",
   "execution_count": null,
   "metadata": {},
   "outputs": [],
   "source": [
    "# other emitters to play with\n",
    "\n",
    "# key_down, key_press, key_up, pointer_cancel, pointer_click, \n",
    "# pointer_double_click, pointer_down, pointer_move, pointer_up, pointer_wheel"
   ]
  }
 ],
 "metadata": {
  "kernelspec": {
   "display_name": "Python 3",
   "language": "python",
   "name": "python3"
  },
  "language_info": {
   "codemirror_mode": {
    "name": "ipython",
    "version": 3
   },
   "file_extension": ".py",
   "mimetype": "text/x-python",
   "name": "python",
   "nbconvert_exporter": "python",
   "pygments_lexer": "ipython3",
   "version": "3.6.5"
  }
 },
 "nbformat": 4,
 "nbformat_minor": 2
}
