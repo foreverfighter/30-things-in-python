{
 "cells": [
  {
   "cell_type": "code",
   "execution_count": 39,
   "metadata": {},
   "outputs": [],
   "source": [
    "from math import sin, cos, degrees, radians\n",
    "\n",
    "from PIL import Image, ImageDraw, ImageFont"
   ]
  },
  {
   "cell_type": "markdown",
   "metadata": {},
   "source": [
    "# Data for our snake"
   ]
  },
  {
   "cell_type": "code",
   "execution_count": 46,
   "metadata": {},
   "outputs": [],
   "source": [
    "labels = ('Length', 'Cunning', 'Weight')\n",
    "values = (38, 17, 28)"
   ]
  },
  {
   "cell_type": "markdown",
   "metadata": {},
   "source": [
    "# Some constants for the image"
   ]
  },
  {
   "cell_type": "code",
   "execution_count": 41,
   "metadata": {},
   "outputs": [],
   "source": [
    "SCALE = 6\n",
    "POINTS = 3\n",
    "STEPS_IN_GRID = 5\n",
    "BG_COLOR = 'White'\n",
    "LABEL_COLOR = (0, 0, 0, 200)\n",
    "\n",
    "BASE_LENGTH = 100\n",
    "BASE_SHAPE_LENGTH = 40\n",
    "BASE_LABEL_SHIFT = 45\n",
    "DOWNSAMPLING_FACTOR = 2\n",
    "\n",
    "DEGREES_IN_A_CIRCLE = 360\n",
    "DEGREES_TO_POINT_UP = 270\n",
    "\n",
    "# make this a theme later on\n",
    "SHAPE_COLOR = (135, 206, 250, 180)\n",
    "LINE_COLOR = (15, 15, 15, 200)\n",
    "OUTSIDE_COLOR = (0, 0, 0, 0)\n",
    "LABEL_FONT = ImageFont.truetype(\"fonts/LemonMilk.otf\", 3 * SCALE)\n",
    "VALUE_FONT = ImageFont.truetype(\"fonts/LemonMilk.otf\", 6 * SCALE)\n",
    "\n",
    "points_to_shift = {\n",
    "    3: 10,\n",
    "    4: 0,\n",
    "    5: 4,\n",
    "    6: 0,\n",
    "    7: 2,\n",
    "    8: 0,\n",
    "    9: 1,\n",
    "    10: 0,\n",
    "}\n",
    "\n",
    "def point_from_angle_distance(point, angle, distance):\n",
    "    x, y = point\n",
    "    x_factor = cos(radians(angle))\n",
    "    y_factor = sin(radians(angle))\n",
    "    new_point = (x + distance * x_factor, y + distance * y_factor)\n",
    "    return new_point"
   ]
  },
  {
   "cell_type": "markdown",
   "metadata": {},
   "source": [
    "# Create a new image"
   ]
  },
  {
   "cell_type": "code",
   "execution_count": 42,
   "metadata": {},
   "outputs": [],
   "source": [
    "im = Image.new(\n",
    "    'RGB', (BASE_LENGTH * SCALE, BASE_LENGTH * SCALE), color=BG_COLOR)\n",
    "draw = ImageDraw.Draw(im, 'RGBA')"
   ]
  },
  {
   "cell_type": "markdown",
   "metadata": {},
   "source": [
    "# Do some calculations and draw the rest"
   ]
  },
  {
   "cell_type": "code",
   "execution_count": 45,
   "metadata": {},
   "outputs": [
    {
     "ename": "NameError",
     "evalue": "name 'draw' is not defined",
     "output_type": "error",
     "traceback": [
      "\u001b[0;31m---------------------------------------------------------------------------\u001b[0m",
      "\u001b[0;31mNameError\u001b[0m                                 Traceback (most recent call last)",
      "\u001b[0;32m<ipython-input-45-37392ed17c66>\u001b[0m in \u001b[0;36m<module>\u001b[0;34m()\u001b[0m\n\u001b[1;32m     11\u001b[0m             \u001b[0mmiddle\u001b[0m\u001b[0;34m,\u001b[0m \u001b[0mDEGREES_TO_POINT_UP\u001b[0m \u001b[0;34m+\u001b[0m \u001b[0mi\u001b[0m \u001b[0;34m*\u001b[0m \u001b[0mangle_step\u001b[0m\u001b[0;34m,\u001b[0m\u001b[0;34m\u001b[0m\u001b[0m\n\u001b[1;32m     12\u001b[0m             (BASE_SHAPE_LENGTH / STEPS_IN_GRID) * SCALE * step)\n\u001b[0;32m---> 13\u001b[0;31m         \u001b[0mdraw\u001b[0m\u001b[0;34m.\u001b[0m\u001b[0mline\u001b[0m\u001b[0;34m(\u001b[0m\u001b[0;34m(\u001b[0m\u001b[0mmiddle\u001b[0m\u001b[0;34m,\u001b[0m \u001b[0mpoint\u001b[0m\u001b[0;34m)\u001b[0m\u001b[0;34m,\u001b[0m \u001b[0mfill\u001b[0m\u001b[0;34m=\u001b[0m\u001b[0mLINE_COLOR\u001b[0m\u001b[0;34m)\u001b[0m\u001b[0;34m\u001b[0m\u001b[0m\n\u001b[0m\u001b[1;32m     14\u001b[0m         \u001b[0;32mif\u001b[0m \u001b[0mlast_point\u001b[0m \u001b[0;32mand\u001b[0m \u001b[0mstep\u001b[0m \u001b[0;34m==\u001b[0m \u001b[0mSTEPS_IN_GRID\u001b[0m\u001b[0;34m:\u001b[0m\u001b[0;34m\u001b[0m\u001b[0m\n\u001b[1;32m     15\u001b[0m             draw.line(\n",
      "\u001b[0;31mNameError\u001b[0m: name 'draw' is not defined"
     ]
    }
   ],
   "source": [
    "vertical_shift = points_to_shift[POINTS]\n",
    "middle = ((BASE_LENGTH / 2) * SCALE,\n",
    "          ((BASE_LENGTH / 2) + vertical_shift) * SCALE)\n",
    "angle_step = DEGREES_IN_A_CIRCLE / POINTS\n",
    "\n",
    "# draw gridlines\n",
    "for step in range(1, STEPS_IN_GRID + 1):\n",
    "    last_point = None\n",
    "    for i in range(POINTS + 1):\n",
    "        point = point_from_angle_distance(\n",
    "            middle, DEGREES_TO_POINT_UP + i * angle_step,\n",
    "            (BASE_SHAPE_LENGTH / STEPS_IN_GRID) * SCALE * step)\n",
    "        draw.line((middle, point), fill=LINE_COLOR)\n",
    "        if last_point and step == STEPS_IN_GRID:\n",
    "            draw.line(\n",
    "                (point, last_point), fill=LINE_COLOR, width=int(SCALE / 2))\n",
    "        elif last_point:\n",
    "            draw.line((point, last_point), fill=LINE_COLOR)\n",
    "        last_point = point\n",
    "\n",
    "# draw shape\n",
    "points = []\n",
    "for i, value in enumerate(values):\n",
    "    points.append(\n",
    "        point_from_angle_distance(middle, DEGREES_TO_POINT_UP + i * angle_step,\n",
    "                                  value * SCALE))\n",
    "    val_point = point_from_angle_distance(middle, 270 + i * angle_step,\n",
    "                                          45 * SCALE)\n",
    "    width, height = VALUE_FONT.getsize(str(value))\n",
    "    val_point = val_point[0] - width / 2, val_point[1] - height / 2\n",
    "    draw.text(val_point, str(value), font=VALUE_FONT, fill=(0, 0, 0, 200))\n",
    "draw.polygon(points, outline=LINE_COLOR, fill=SHAPE_COLOR)\n",
    "draw.line(points + [points[0]], fill=LINE_COLOR, width=int(SCALE / 2))\n",
    "\n",
    "# draw labels\n",
    "for i, label in enumerate(labels):\n",
    "    top_left = point_from_angle_distance(\n",
    "        middle, DEGREES_TO_POINT_UP + i * angle_step, BASE_LABEL_SHIFT * SCALE)\n",
    "    shifted = top_left[0] - 12 * SCALE, top_left[1]\n",
    "    draw.text(shifted, label, font=LABEL_FONT, fill=LABEL_COLOR)\n",
    "\n",
    "del draw  # this somehow causes the opacity to work properly\n",
    "# shrink image to implement anti-aliasing\n",
    "im.thumbnail((SCALE * BASE_LENGTH / DOWNSAMPLING_FACTOR,\n",
    "              SCALE * BASE_LENGTH / DOWNSAMPLING_FACTOR))  # yapf: disable"
   ]
  },
  {
   "cell_type": "markdown",
   "metadata": {},
   "source": [
    "# Save the image"
   ]
  },
  {
   "cell_type": "code",
   "execution_count": 44,
   "metadata": {},
   "outputs": [],
   "source": [
    "im.save('snakey.png', \"PNG\")"
   ]
  },
  {
   "cell_type": "markdown",
   "metadata": {},
   "source": [
    "![title](snakey.png)"
   ]
  }
 ],
 "metadata": {
  "jupytext": {},
  "kernelspec": {
   "display_name": "Python 3",
   "language": "python",
   "name": "python3"
  },
  "language_info": {
   "codemirror_mode": {
    "name": "ipython",
    "version": 3
   },
   "file_extension": ".py",
   "mimetype": "text/x-python",
   "name": "python",
   "nbconvert_exporter": "python",
   "pygments_lexer": "ipython3",
   "version": "3.6.5"
  }
 },
 "nbformat": 4,
 "nbformat_minor": 2
}
